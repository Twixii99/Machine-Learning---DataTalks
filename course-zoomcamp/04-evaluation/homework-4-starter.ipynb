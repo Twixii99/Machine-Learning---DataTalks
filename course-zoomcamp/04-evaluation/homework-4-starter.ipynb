{
  "nbformat": 4,
  "nbformat_minor": 0,
  "metadata": {
    "kernelspec": {
      "display_name": "Python 3",
      "language": "python",
      "name": "python3"
    },
    "language_info": {
      "codemirror_mode": {
        "name": "ipython",
        "version": 3
      },
      "file_extension": ".py",
      "mimetype": "text/x-python",
      "name": "python",
      "nbconvert_exporter": "python",
      "pygments_lexer": "ipython3",
      "version": "3.6.9"
    },
    "colab": {
      "name": "homework-4-starter.ipynb",
      "provenance": []
    }
  },
  "cells": [
    {
      "cell_type": "markdown",
      "metadata": {
        "id": "74yClAVPdw81"
      },
      "source": [
        "## Homework 4\n",
        "\n",
        "Use this notebook as a starter"
      ]
    },
    {
      "cell_type": "code",
      "metadata": {
        "id": "L1iEN7Rgdw85"
      },
      "source": [
        "import pandas as pd\n",
        "import numpy as np\n",
        "\n",
        "import matplotlib.pyplot as plt\n",
        "import seaborn as sns\n",
        "\n",
        "from IPython.display import display\n",
        "from sklearn.model_selection import train_test_split\n",
        "from sklearn.metrics import roc_auc_score\n",
        "from sklearn.feature_extraction import DictVectorizer\n",
        "from sklearn.linear_model import LogisticRegression\n",
        "from sklearn.model_selection import KFold\n",
        "\n",
        "%matplotlib inline"
      ],
      "execution_count": 31,
      "outputs": []
    },
    {
      "cell_type": "markdown",
      "metadata": {
        "id": "yWsFNBV9dw87"
      },
      "source": [
        "Data:\n",
        "\n",
        "- https://github.com/gastonstat/CreditScoring\n",
        "- Also available [here](https://raw.githubusercontent.com/alexeygrigorev/mlbookcamp-code/master/chapter-06-trees/CreditScoring.csv)"
      ]
    },
    {
      "cell_type": "code",
      "metadata": {
        "scrolled": true,
        "id": "IuHcfKOOdw88",
        "outputId": "bf20df4e-f476-4bf7-d9e3-c973c41d5c18",
        "colab": {
          "base_uri": "https://localhost:8080/"
        }
      },
      "source": [
        "!wget https://raw.githubusercontent.com/alexeygrigorev/mlbookcamp-code/master/chapter-06-trees/CreditScoring.csv"
      ],
      "execution_count": 2,
      "outputs": [
        {
          "output_type": "stream",
          "name": "stdout",
          "text": [
            "--2021-10-04 13:22:24--  https://raw.githubusercontent.com/alexeygrigorev/mlbookcamp-code/master/chapter-06-trees/CreditScoring.csv\n",
            "Resolving raw.githubusercontent.com (raw.githubusercontent.com)... 185.199.110.133, 185.199.108.133, 185.199.111.133, ...\n",
            "Connecting to raw.githubusercontent.com (raw.githubusercontent.com)|185.199.110.133|:443... connected.\n",
            "HTTP request sent, awaiting response... 200 OK\n",
            "Length: 182489 (178K) [text/plain]\n",
            "Saving to: ‘CreditScoring.csv’\n",
            "\n",
            "\rCreditScoring.csv     0%[                    ]       0  --.-KB/s               \rCreditScoring.csv   100%[===================>] 178.21K  --.-KB/s    in 0.02s   \n",
            "\n",
            "2021-10-04 13:22:24 (11.3 MB/s) - ‘CreditScoring.csv’ saved [182489/182489]\n",
            "\n"
          ]
        }
      ]
    },
    {
      "cell_type": "markdown",
      "metadata": {
        "id": "TNVsKIZjdw89"
      },
      "source": [
        "## Preparation \n",
        "\n",
        "We'll talk about this dataset in more details in week 6. But for now, use the following code to get started"
      ]
    },
    {
      "cell_type": "code",
      "metadata": {
        "id": "HpZlzf46dw8-"
      },
      "source": [
        "df = pd.read_csv('CreditScoring.csv')\n",
        "df.columns = df.columns.str.lower()"
      ],
      "execution_count": 3,
      "outputs": []
    },
    {
      "cell_type": "markdown",
      "metadata": {
        "id": "wPYgXfSAdw8-"
      },
      "source": [
        "Some of the features are encoded as numbers. Use the following code to de-code them:"
      ]
    },
    {
      "cell_type": "code",
      "metadata": {
        "id": "zfwyBZUIdw8-"
      },
      "source": [
        "status_values = {\n",
        "    1: 'ok',\n",
        "    2: 'default',\n",
        "    0: 'unk'\n",
        "}\n",
        "\n",
        "df.status = df.status.map(status_values)\n",
        "\n",
        "\n",
        "home_values = {\n",
        "    1: 'rent',\n",
        "    2: 'owner',\n",
        "    3: 'private',\n",
        "    4: 'ignore',\n",
        "    5: 'parents',\n",
        "    6: 'other',\n",
        "    0: 'unk'\n",
        "}\n",
        "\n",
        "df.home = df.home.map(home_values)\n",
        "\n",
        "marital_values = {\n",
        "    1: 'single',\n",
        "    2: 'married',\n",
        "    3: 'widow',\n",
        "    4: 'separated',\n",
        "    5: 'divorced',\n",
        "    0: 'unk'\n",
        "}\n",
        "\n",
        "df.marital = df.marital.map(marital_values)\n",
        "\n",
        "records_values = {\n",
        "    1: 'no',\n",
        "    2: 'yes',\n",
        "    0: 'unk'\n",
        "}\n",
        "\n",
        "df.records = df.records.map(records_values)\n",
        "\n",
        "job_values = {\n",
        "    1: 'fixed',\n",
        "    2: 'partime',\n",
        "    3: 'freelance',\n",
        "    4: 'others',\n",
        "    0: 'unk'\n",
        "}\n",
        "\n",
        "df.job = df.job.map(job_values)"
      ],
      "execution_count": 4,
      "outputs": []
    },
    {
      "cell_type": "markdown",
      "metadata": {
        "id": "0sYKdRyRdw8_"
      },
      "source": [
        "Prepare the numerical variables:"
      ]
    },
    {
      "cell_type": "code",
      "metadata": {
        "id": "k-W3fYWEdw8_"
      },
      "source": [
        "for c in ['income', 'assets', 'debt']:\n",
        "    df[c] = df[c].replace(to_replace=99999999, value=0)"
      ],
      "execution_count": 5,
      "outputs": []
    },
    {
      "cell_type": "markdown",
      "metadata": {
        "id": "cJAwBgPzdw9A"
      },
      "source": [
        "Remove clients with unknown default status"
      ]
    },
    {
      "cell_type": "code",
      "metadata": {
        "id": "zq6dJqYQdw9A"
      },
      "source": [
        "df = df[df.status != 'unk'].reset_index(drop=True)"
      ],
      "execution_count": 6,
      "outputs": []
    },
    {
      "cell_type": "markdown",
      "metadata": {
        "id": "0GaQ7E8Zdw9A"
      },
      "source": [
        "Create the target variable"
      ]
    },
    {
      "cell_type": "code",
      "metadata": {
        "id": "wwJnhPkTdw9B"
      },
      "source": [
        "df['default'] = (df.status == 'default').astype(int)\n",
        "del df['status']"
      ],
      "execution_count": 7,
      "outputs": []
    },
    {
      "cell_type": "markdown",
      "metadata": {
        "id": "z3rP3KOOdw9B"
      },
      "source": [
        "## Your code"
      ]
    },
    {
      "cell_type": "markdown",
      "metadata": {
        "id": "1S3QcOdAdw9C"
      },
      "source": [
        "What are the categorical variables? What are the numerical?"
      ]
    },
    {
      "cell_type": "code",
      "metadata": {
        "id": "2kPel9p4dw9C",
        "outputId": "4a454137-801b-4ec4-ee48-f736a32a1e08",
        "colab": {
          "base_uri": "https://localhost:8080/",
          "height": 204
        }
      },
      "source": [
        "df.head()"
      ],
      "execution_count": 8,
      "outputs": [
        {
          "output_type": "execute_result",
          "data": {
            "text/html": [
              "<div>\n",
              "<style scoped>\n",
              "    .dataframe tbody tr th:only-of-type {\n",
              "        vertical-align: middle;\n",
              "    }\n",
              "\n",
              "    .dataframe tbody tr th {\n",
              "        vertical-align: top;\n",
              "    }\n",
              "\n",
              "    .dataframe thead th {\n",
              "        text-align: right;\n",
              "    }\n",
              "</style>\n",
              "<table border=\"1\" class=\"dataframe\">\n",
              "  <thead>\n",
              "    <tr style=\"text-align: right;\">\n",
              "      <th></th>\n",
              "      <th>seniority</th>\n",
              "      <th>home</th>\n",
              "      <th>time</th>\n",
              "      <th>age</th>\n",
              "      <th>marital</th>\n",
              "      <th>records</th>\n",
              "      <th>job</th>\n",
              "      <th>expenses</th>\n",
              "      <th>income</th>\n",
              "      <th>assets</th>\n",
              "      <th>debt</th>\n",
              "      <th>amount</th>\n",
              "      <th>price</th>\n",
              "      <th>default</th>\n",
              "    </tr>\n",
              "  </thead>\n",
              "  <tbody>\n",
              "    <tr>\n",
              "      <th>0</th>\n",
              "      <td>9</td>\n",
              "      <td>rent</td>\n",
              "      <td>60</td>\n",
              "      <td>30</td>\n",
              "      <td>married</td>\n",
              "      <td>no</td>\n",
              "      <td>freelance</td>\n",
              "      <td>73</td>\n",
              "      <td>129</td>\n",
              "      <td>0</td>\n",
              "      <td>0</td>\n",
              "      <td>800</td>\n",
              "      <td>846</td>\n",
              "      <td>0</td>\n",
              "    </tr>\n",
              "    <tr>\n",
              "      <th>1</th>\n",
              "      <td>17</td>\n",
              "      <td>rent</td>\n",
              "      <td>60</td>\n",
              "      <td>58</td>\n",
              "      <td>widow</td>\n",
              "      <td>no</td>\n",
              "      <td>fixed</td>\n",
              "      <td>48</td>\n",
              "      <td>131</td>\n",
              "      <td>0</td>\n",
              "      <td>0</td>\n",
              "      <td>1000</td>\n",
              "      <td>1658</td>\n",
              "      <td>0</td>\n",
              "    </tr>\n",
              "    <tr>\n",
              "      <th>2</th>\n",
              "      <td>10</td>\n",
              "      <td>owner</td>\n",
              "      <td>36</td>\n",
              "      <td>46</td>\n",
              "      <td>married</td>\n",
              "      <td>yes</td>\n",
              "      <td>freelance</td>\n",
              "      <td>90</td>\n",
              "      <td>200</td>\n",
              "      <td>3000</td>\n",
              "      <td>0</td>\n",
              "      <td>2000</td>\n",
              "      <td>2985</td>\n",
              "      <td>1</td>\n",
              "    </tr>\n",
              "    <tr>\n",
              "      <th>3</th>\n",
              "      <td>0</td>\n",
              "      <td>rent</td>\n",
              "      <td>60</td>\n",
              "      <td>24</td>\n",
              "      <td>single</td>\n",
              "      <td>no</td>\n",
              "      <td>fixed</td>\n",
              "      <td>63</td>\n",
              "      <td>182</td>\n",
              "      <td>2500</td>\n",
              "      <td>0</td>\n",
              "      <td>900</td>\n",
              "      <td>1325</td>\n",
              "      <td>0</td>\n",
              "    </tr>\n",
              "    <tr>\n",
              "      <th>4</th>\n",
              "      <td>0</td>\n",
              "      <td>rent</td>\n",
              "      <td>36</td>\n",
              "      <td>26</td>\n",
              "      <td>single</td>\n",
              "      <td>no</td>\n",
              "      <td>fixed</td>\n",
              "      <td>46</td>\n",
              "      <td>107</td>\n",
              "      <td>0</td>\n",
              "      <td>0</td>\n",
              "      <td>310</td>\n",
              "      <td>910</td>\n",
              "      <td>0</td>\n",
              "    </tr>\n",
              "  </tbody>\n",
              "</table>\n",
              "</div>"
            ],
            "text/plain": [
              "   seniority   home  time  age  marital  ... assets debt  amount  price  default\n",
              "0          9   rent    60   30  married  ...      0    0     800    846        0\n",
              "1         17   rent    60   58    widow  ...      0    0    1000   1658        0\n",
              "2         10  owner    36   46  married  ...   3000    0    2000   2985        1\n",
              "3          0   rent    60   24   single  ...   2500    0     900   1325        0\n",
              "4          0   rent    36   26   single  ...      0    0     310    910        0\n",
              "\n",
              "[5 rows x 14 columns]"
            ]
          },
          "metadata": {},
          "execution_count": 8
        }
      ]
    },
    {
      "cell_type": "markdown",
      "metadata": {
        "id": "6Nd4eoOydw9C"
      },
      "source": [
        "Split the data into 3 parts: train/validation/test with 60%/20%/20% distribution. Use `train_test_split` funciton for that with `random_state=1`"
      ]
    },
    {
      "cell_type": "code",
      "metadata": {
        "id": "p70wMLh0dw9C",
        "outputId": "b2ddc8fc-4cb6-4a94-a4d3-7e54d88f4036",
        "colab": {
          "base_uri": "https://localhost:8080/"
        }
      },
      "source": [
        "df.dtypes"
      ],
      "execution_count": 9,
      "outputs": [
        {
          "output_type": "execute_result",
          "data": {
            "text/plain": [
              "seniority     int64\n",
              "home         object\n",
              "time          int64\n",
              "age           int64\n",
              "marital      object\n",
              "records      object\n",
              "job          object\n",
              "expenses      int64\n",
              "income        int64\n",
              "assets        int64\n",
              "debt          int64\n",
              "amount        int64\n",
              "price         int64\n",
              "default       int64\n",
              "dtype: object"
            ]
          },
          "metadata": {},
          "execution_count": 9
        }
      ]
    },
    {
      "cell_type": "code",
      "metadata": {
        "id": "Onp9UwtreOie",
        "outputId": "f7e3211e-87f9-4da8-f973-08250d5088bf",
        "colab": {
          "base_uri": "https://localhost:8080/",
          "height": 187
        }
      },
      "source": [
        "categorical = list(df.dtypes[df.dtypes == 'object'].index)\n",
        "numerical = list(df.dtypes[df.dtypes != 'object'].index)\n",
        "numerical.remove('default')\n",
        "display(categorical, numerical)"
      ],
      "execution_count": 12,
      "outputs": [
        {
          "output_type": "display_data",
          "data": {
            "text/plain": [
              "['home', 'marital', 'records', 'job']"
            ]
          },
          "metadata": {}
        },
        {
          "output_type": "display_data",
          "data": {
            "text/plain": [
              "['seniority',\n",
              " 'time',\n",
              " 'age',\n",
              " 'expenses',\n",
              " 'income',\n",
              " 'assets',\n",
              " 'debt',\n",
              " 'amount',\n",
              " 'price']"
            ]
          },
          "metadata": {}
        }
      ]
    },
    {
      "cell_type": "code",
      "metadata": {
        "id": "aF9AUu9Kem1E"
      },
      "source": [
        "df_train_full, df_test = train_test_split(df, test_size=0.2,random_state=1)\n",
        "df_train, df_val = train_test_split(df_train_full, test_size=0.25, random_state=1)\n",
        "\n",
        "\n",
        "df_train_full.reset_index(drop=True)\n",
        "df_test.reset_index(drop=True)\n",
        "df_train.reset_index(drop=True)\n",
        "df_val.reset_index(drop=True)\n",
        "\n",
        "y_train_full = df_train_full.default.values\n",
        "y_train = df_train.default.values\n",
        "y_val = df_val.default.values\n",
        "y_test = df_test.default.values\n",
        "\n",
        "del df_train_full['default']\n",
        "del df_train['default']\n",
        "del df_val['default']\n",
        "del df_test['default']"
      ],
      "execution_count": 23,
      "outputs": []
    },
    {
      "cell_type": "markdown",
      "metadata": {
        "id": "oGAGaA3idw9D"
      },
      "source": [
        "## Question 1\n",
        "\n",
        "ROC AUC could also be used to evaluate feature importance of numerical variables. \n",
        "\n",
        "Let's do that\n",
        "\n",
        "* For each numerical variable, use it as score and compute AUC with the \"default\" variable\n",
        "* Use the training dataset for that\n",
        "\n",
        "\n",
        "If your AUC is < 0.5, invert this variable by putting \"-\" in front\n",
        "\n",
        "(e.g. `-df_train['expenses']`)\n",
        "\n",
        "AUC can go below 0.5 if the variable is negatively correlated with the target varialble. You can change the direction of the correlation by negating this variable - then negative correlation becomes positive."
      ]
    },
    {
      "cell_type": "code",
      "metadata": {
        "id": "KU4yEBO_dw9D",
        "outputId": "20950da9-76a7-4dcb-b5f5-8e956ff07b36",
        "colab": {
          "base_uri": "https://localhost:8080/"
        }
      },
      "source": [
        "for feature in numerical:\n",
        "    print(\"Feature name:\", feature)\n",
        "    auc = roc_auc_score(y_train, df_train[feature])\n",
        "    if auc< 0.5:\n",
        "        auc = roc_auc_score(y_train, -df_train[feature])\n",
        "    print(\"AUC:\", auc)"
      ],
      "execution_count": 24,
      "outputs": [
        {
          "output_type": "stream",
          "name": "stdout",
          "text": [
            "Feature name: seniority\n",
            "AUC: 0.7093778624491943\n",
            "Feature name: time\n",
            "AUC: 0.5608662489595051\n",
            "Feature name: age\n",
            "AUC: 0.5732933272499939\n",
            "Feature name: expenses\n",
            "AUC: 0.5009184217217011\n",
            "Feature name: income\n",
            "AUC: 0.682006666132633\n",
            "Feature name: assets\n",
            "AUC: 0.6486042567122802\n",
            "Feature name: debt\n",
            "AUC: 0.5047829675783548\n",
            "Feature name: amount\n",
            "AUC: 0.5910773431595518\n",
            "Feature name: price\n",
            "AUC: 0.5043329862114843\n"
          ]
        }
      ]
    },
    {
      "cell_type": "markdown",
      "metadata": {
        "id": "y2-Fz_NYdw9D"
      },
      "source": [
        "Which numerical variable (among the following 4) has the highest AUC?\n",
        "\n",
        "- seniority\n",
        "- time\n",
        "- income\n",
        "- debt"
      ]
    },
    {
      "cell_type": "markdown",
      "metadata": {
        "id": "gzUsbE7Vdw9E"
      },
      "source": [
        "## Training the model\n",
        "\n",
        "From now on, use these columns only:\n",
        "\n",
        "```\n",
        "['seniority', 'income', 'assets', 'records', 'job', 'home']\n",
        "```\n",
        "\n",
        "Apply one-hot-encoding using `DictVectorizer` and train the logistic regression with these parameters:\n",
        "\n",
        "```\n",
        "LogisticRegression(solver='liblinear', C=1.0, max_iter=1000)\n",
        "```"
      ]
    },
    {
      "cell_type": "code",
      "metadata": {
        "id": "bVw04d8kdw9E",
        "outputId": "c5cbe197-3086-4b4f-af05-0325ceb23393",
        "colab": {
          "base_uri": "https://localhost:8080/"
        }
      },
      "source": [
        "features_selected = ['seniority', 'income', 'assets', 'records', 'job', 'home']\n",
        "\n",
        "dv = DictVectorizer(sparse=False)\n",
        "\n",
        "train_dict = df_train[features_selected].to_dict(orient='records')\n",
        "X_train = dv.fit_transform(train_dict)\n",
        "\n",
        "model = LogisticRegression(solver='liblinear', C=1.0, max_iter=1000)\n",
        "model.fit(X_train, y_train)"
      ],
      "execution_count": 25,
      "outputs": [
        {
          "output_type": "execute_result",
          "data": {
            "text/plain": [
              "LogisticRegression(C=1.0, class_weight=None, dual=False, fit_intercept=True,\n",
              "                   intercept_scaling=1, l1_ratio=None, max_iter=1000,\n",
              "                   multi_class='auto', n_jobs=None, penalty='l2',\n",
              "                   random_state=None, solver='liblinear', tol=0.0001, verbose=0,\n",
              "                   warm_start=False)"
            ]
          },
          "metadata": {},
          "execution_count": 25
        }
      ]
    },
    {
      "cell_type": "markdown",
      "metadata": {
        "id": "ZTEglEfsdw9E"
      },
      "source": [
        "## Question 2\n",
        "\n",
        "What's the AUC of this model on the validation dataset? (round to 3 digits)\n",
        "\n",
        "- 0.512\n",
        "- 0.612\n",
        "- 0.712\n",
        "- 0.812"
      ]
    },
    {
      "cell_type": "code",
      "metadata": {
        "id": "-bItJMENfplM",
        "outputId": "c3e0def5-bb23-4ca0-c177-776544893fcb",
        "colab": {
          "base_uri": "https://localhost:8080/"
        }
      },
      "source": [
        "X_val = dv.transform(df_val[features_selected].to_dict(orient='records'))\n",
        "y_pred = model.predict_proba(X_val)[:, 1]\n",
        "val_auc = roc_auc_score(y_val, y_pred).round(3)\n",
        "print(val_auc)"
      ],
      "execution_count": 26,
      "outputs": [
        {
          "output_type": "stream",
          "name": "stdout",
          "text": [
            "0.812\n"
          ]
        }
      ]
    },
    {
      "cell_type": "markdown",
      "metadata": {
        "id": "6LT44obydw9F"
      },
      "source": [
        "## Question 3\n",
        "\n",
        "Now let's compute precision and recall for our model.\n",
        "\n",
        "* Evaluate the model on all thresholds from 0.0 to 1.0 with step 0.01\n",
        "* For each threshold, compute precision and recall\n",
        "* Plot them"
      ]
    },
    {
      "cell_type": "code",
      "metadata": {
        "id": "PSJeUAgNdw9F",
        "outputId": "8be82280-97dd-4b2e-ae87-0b2f7880888a",
        "colab": {
          "base_uri": "https://localhost:8080/",
          "height": 419
        }
      },
      "source": [
        "scores = []\n",
        "\n",
        "thresholds = np.arange(0,1,0.01)\n",
        "\n",
        "for t in thresholds:\n",
        "    \n",
        "    actual_positive = (y_val == 1)\n",
        "    actual_negative = (y_val == 0)\n",
        "    \n",
        "    predict_positive = (y_pred >= t)\n",
        "    predict_negative = (y_pred < t)\n",
        "\n",
        "    tp = (predict_positive & actual_positive).sum()\n",
        "    tn = (predict_negative & actual_negative).sum()\n",
        "\n",
        "    fp = (predict_positive & actual_negative).sum()\n",
        "    fn = (predict_negative & actual_positive).sum()\n",
        "    \n",
        "    scores.append((t, tp, fp, fn, tn))\n",
        "    \n",
        "columns = ['threshold', 'tp', 'fp', 'fn', 'tn']\n",
        "df_scores = pd.DataFrame(scores, columns=columns)\n",
        "\n",
        "df_scores['recall'] = df_scores.tp / (df_scores.tp + df_scores.fn)\n",
        "df_scores['precision'] = df_scores.tp / (df_scores.tp + df_scores.fp)\n",
        "\n",
        "df_scores"
      ],
      "execution_count": 27,
      "outputs": [
        {
          "output_type": "execute_result",
          "data": {
            "text/html": [
              "<div>\n",
              "<style scoped>\n",
              "    .dataframe tbody tr th:only-of-type {\n",
              "        vertical-align: middle;\n",
              "    }\n",
              "\n",
              "    .dataframe tbody tr th {\n",
              "        vertical-align: top;\n",
              "    }\n",
              "\n",
              "    .dataframe thead th {\n",
              "        text-align: right;\n",
              "    }\n",
              "</style>\n",
              "<table border=\"1\" class=\"dataframe\">\n",
              "  <thead>\n",
              "    <tr style=\"text-align: right;\">\n",
              "      <th></th>\n",
              "      <th>threshold</th>\n",
              "      <th>tp</th>\n",
              "      <th>fp</th>\n",
              "      <th>fn</th>\n",
              "      <th>tn</th>\n",
              "      <th>recall</th>\n",
              "      <th>precision</th>\n",
              "    </tr>\n",
              "  </thead>\n",
              "  <tbody>\n",
              "    <tr>\n",
              "      <th>0</th>\n",
              "      <td>0.00</td>\n",
              "      <td>246</td>\n",
              "      <td>645</td>\n",
              "      <td>0</td>\n",
              "      <td>0</td>\n",
              "      <td>1.00000</td>\n",
              "      <td>0.276094</td>\n",
              "    </tr>\n",
              "    <tr>\n",
              "      <th>1</th>\n",
              "      <td>0.01</td>\n",
              "      <td>246</td>\n",
              "      <td>635</td>\n",
              "      <td>0</td>\n",
              "      <td>10</td>\n",
              "      <td>1.00000</td>\n",
              "      <td>0.279228</td>\n",
              "    </tr>\n",
              "    <tr>\n",
              "      <th>2</th>\n",
              "      <td>0.02</td>\n",
              "      <td>244</td>\n",
              "      <td>613</td>\n",
              "      <td>2</td>\n",
              "      <td>32</td>\n",
              "      <td>0.99187</td>\n",
              "      <td>0.284714</td>\n",
              "    </tr>\n",
              "    <tr>\n",
              "      <th>3</th>\n",
              "      <td>0.03</td>\n",
              "      <td>242</td>\n",
              "      <td>593</td>\n",
              "      <td>4</td>\n",
              "      <td>52</td>\n",
              "      <td>0.98374</td>\n",
              "      <td>0.289820</td>\n",
              "    </tr>\n",
              "    <tr>\n",
              "      <th>4</th>\n",
              "      <td>0.04</td>\n",
              "      <td>242</td>\n",
              "      <td>563</td>\n",
              "      <td>4</td>\n",
              "      <td>82</td>\n",
              "      <td>0.98374</td>\n",
              "      <td>0.300621</td>\n",
              "    </tr>\n",
              "    <tr>\n",
              "      <th>...</th>\n",
              "      <td>...</td>\n",
              "      <td>...</td>\n",
              "      <td>...</td>\n",
              "      <td>...</td>\n",
              "      <td>...</td>\n",
              "      <td>...</td>\n",
              "      <td>...</td>\n",
              "    </tr>\n",
              "    <tr>\n",
              "      <th>95</th>\n",
              "      <td>0.95</td>\n",
              "      <td>0</td>\n",
              "      <td>0</td>\n",
              "      <td>246</td>\n",
              "      <td>645</td>\n",
              "      <td>0.00000</td>\n",
              "      <td>NaN</td>\n",
              "    </tr>\n",
              "    <tr>\n",
              "      <th>96</th>\n",
              "      <td>0.96</td>\n",
              "      <td>0</td>\n",
              "      <td>0</td>\n",
              "      <td>246</td>\n",
              "      <td>645</td>\n",
              "      <td>0.00000</td>\n",
              "      <td>NaN</td>\n",
              "    </tr>\n",
              "    <tr>\n",
              "      <th>97</th>\n",
              "      <td>0.97</td>\n",
              "      <td>0</td>\n",
              "      <td>0</td>\n",
              "      <td>246</td>\n",
              "      <td>645</td>\n",
              "      <td>0.00000</td>\n",
              "      <td>NaN</td>\n",
              "    </tr>\n",
              "    <tr>\n",
              "      <th>98</th>\n",
              "      <td>0.98</td>\n",
              "      <td>0</td>\n",
              "      <td>0</td>\n",
              "      <td>246</td>\n",
              "      <td>645</td>\n",
              "      <td>0.00000</td>\n",
              "      <td>NaN</td>\n",
              "    </tr>\n",
              "    <tr>\n",
              "      <th>99</th>\n",
              "      <td>0.99</td>\n",
              "      <td>0</td>\n",
              "      <td>0</td>\n",
              "      <td>246</td>\n",
              "      <td>645</td>\n",
              "      <td>0.00000</td>\n",
              "      <td>NaN</td>\n",
              "    </tr>\n",
              "  </tbody>\n",
              "</table>\n",
              "<p>100 rows × 7 columns</p>\n",
              "</div>"
            ],
            "text/plain": [
              "    threshold   tp   fp   fn   tn   recall  precision\n",
              "0        0.00  246  645    0    0  1.00000   0.276094\n",
              "1        0.01  246  635    0   10  1.00000   0.279228\n",
              "2        0.02  244  613    2   32  0.99187   0.284714\n",
              "3        0.03  242  593    4   52  0.98374   0.289820\n",
              "4        0.04  242  563    4   82  0.98374   0.300621\n",
              "..        ...  ...  ...  ...  ...      ...        ...\n",
              "95       0.95    0    0  246  645  0.00000        NaN\n",
              "96       0.96    0    0  246  645  0.00000        NaN\n",
              "97       0.97    0    0  246  645  0.00000        NaN\n",
              "98       0.98    0    0  246  645  0.00000        NaN\n",
              "99       0.99    0    0  246  645  0.00000        NaN\n",
              "\n",
              "[100 rows x 7 columns]"
            ]
          },
          "metadata": {},
          "execution_count": 27
        }
      ]
    },
    {
      "cell_type": "markdown",
      "metadata": {
        "id": "ZdpH0bcEdw9F"
      },
      "source": [
        "At which threshold precision and recall curves intersect?\n",
        "\n",
        "* 0.2\n",
        "* 0.4\n",
        "* 0.6\n",
        "* 0.8"
      ]
    },
    {
      "cell_type": "code",
      "metadata": {
        "id": "2y6Ddh5Bf0A8",
        "outputId": "3966f08c-3cad-46cc-e4f2-7b0accce6798",
        "colab": {
          "base_uri": "https://localhost:8080/",
          "height": 282
        }
      },
      "source": [
        "plt.plot(df_scores.threshold, df_scores.precision, label='Precision')\n",
        "plt.plot(df_scores.threshold, df_scores.recall, label='Recall')\n",
        "plt.legend()"
      ],
      "execution_count": 28,
      "outputs": [
        {
          "output_type": "execute_result",
          "data": {
            "text/plain": [
              "<matplotlib.legend.Legend at 0x7f5d0f8ca4d0>"
            ]
          },
          "metadata": {},
          "execution_count": 28
        },
        {
          "output_type": "display_data",
          "data": {
            "image/png": "[encoded data removed]",
            "text/plain": [
              "<Figure size 432x288 with 1 Axes>"
            ]
          },
          "metadata": {
            "needs_background": "light"
          }
        }
      ]
    },
    {
      "cell_type": "markdown",
      "metadata": {
        "id": "tQzKSQRFdw9F"
      },
      "source": [
        "## Question 4\n",
        "\n",
        "Precision and recall are conflicting - when one grows, the other goes down. That's why they are often combined into the F1 score - a metrics that takes into account both\n",
        "\n",
        "This is the formula for computing F1:\n",
        "\n",
        "$$F_1 = 2 \\cdot \\cfrac{P \\cdot R}{P + R}$$\n",
        "\n",
        "Where $P$ is precision and $R$ is recall.\n",
        "\n",
        "Let's compute F1 for all thresholds from 0.0 to 1.0 with increment 0.01"
      ]
    },
    {
      "cell_type": "code",
      "metadata": {
        "id": "rI0imPcDdw9G",
        "outputId": "2f877590-4328-416d-f6bf-68caad15565a",
        "colab": {
          "base_uri": "https://localhost:8080/"
        }
      },
      "source": [
        "df_scores['f1_score'] = 2*((df_scores.precision*df_scores.recall)/(df_scores.precision+df_scores.recall))\n",
        "print(df_scores.iloc[np.where(df_scores.f1_score == df_scores.f1_score.max())])"
      ],
      "execution_count": 29,
      "outputs": [
        {
          "output_type": "stream",
          "name": "stdout",
          "text": [
            "    threshold   tp   fp  fn   tn    recall  precision  f1_score\n",
            "30        0.3  187  162  59  483  0.760163   0.535817  0.628571\n"
          ]
        }
      ]
    },
    {
      "cell_type": "markdown",
      "metadata": {
        "id": "5TRehx6ndw9G"
      },
      "source": [
        "At which threshold F1 is maximal?\n",
        "\n",
        "- 0.1\n",
        "- 0.3\n",
        "- 0.5\n",
        "- 0.7"
      ]
    },
    {
      "cell_type": "markdown",
      "metadata": {
        "id": "CzNo7MHLdw9G"
      },
      "source": [
        "## Question 5\n",
        "\n",
        "\n",
        "Use the `KFold` class from Scikit-Learn to evaluate our model on 5 different folds:\n",
        "\n",
        "```\n",
        "KFold(n_splits=5, shuffle=True, random_state=1)\n",
        "```\n",
        "\n",
        "* Iterate over different folds of `df_full_train`\n",
        "* Split the data into train and validation\n",
        "* Train the model on train with these parameters: `LogisticRegression(solver='liblinear', C=1.0, max_iter=1000)`\n",
        "* Use AUC to evaluate the model on validation\n"
      ]
    },
    {
      "cell_type": "code",
      "metadata": {
        "id": "My2AECHQdw9G",
        "outputId": "58b1cdb6-1da7-403c-fd1f-6d124f054a26",
        "colab": {
          "base_uri": "https://localhost:8080/"
        }
      },
      "source": [
        "from tqdm import tqdm\n",
        "\n",
        "n_splits = 5\n",
        "\n",
        "\n",
        "kfold = KFold(n_splits=n_splits, shuffle=True, random_state=1)\n",
        "\n",
        "scores = []\n",
        "\n",
        "for train_idx, val_idx in kfold.split(df_train_full):\n",
        "\n",
        "    df_train = df_train_full.iloc[train_idx]\n",
        "    df_val = df_train_full.iloc[val_idx]\n",
        "\n",
        "    y_train = y_train_full[train_idx]\n",
        "    y_val = y_train_full[val_idx]\n",
        "\n",
        "\n",
        "    train_dict = df_train[features_selected].to_dict(orient='records')\n",
        "    X_train = dv.fit_transform(train_dict)\n",
        "\n",
        "    model = LogisticRegression(solver='liblinear', C=1.0, max_iter=1000)\n",
        "    model.fit(X_train, y_train)\n",
        "\n",
        "    X_val = dv.transform(df_val[features_selected].to_dict(orient='records'))\n",
        "    y_pred = model.predict_proba(X_val)[:, 1]\n",
        "\n",
        "    auc = roc_auc_score(y_val, y_pred)\n",
        "    scores.append(auc)\n",
        "\n",
        "print('C=%s %.3f +- %.3f' % (1.0, np.mean(scores), np.std(scores)))"
      ],
      "execution_count": 32,
      "outputs": [
        {
          "output_type": "stream",
          "name": "stdout",
          "text": [
            "C=1.0 0.812 +- 0.014\n"
          ]
        }
      ]
    },
    {
      "cell_type": "markdown",
      "metadata": {
        "id": "Jk_ItEWodw9H"
      },
      "source": [
        "How large is standard devidation of the scores across different folds?\n",
        "\n",
        "- 0.001\n",
        "- 0.014\n",
        "- 0.09\n",
        "- 0.14"
      ]
    },
    {
      "cell_type": "markdown",
      "metadata": {
        "id": "_QMYqcNCdw9H"
      },
      "source": [
        "## Question 6\n",
        "\n",
        "Now let's use 5-Fold cross-validation to find the best parameter C\n",
        "\n",
        "* Iterate over the following C values: `[0.01, 0.1, 1, 10]`\n",
        "* Initialize `KFold` with the same parameters as previously\n",
        "* Use these parametes for the model: `LogisticRegression(solver='liblinear', C=C, max_iter=1000)`\n",
        "* Compute the mean score as well as the std (round the mean and std to 3 decimal digits)"
      ]
    },
    {
      "cell_type": "code",
      "metadata": {
        "id": "s-GRmFjpdw9H",
        "outputId": "cad237ef-9407-4194-9b78-9db83da2fc78",
        "colab": {
          "base_uri": "https://localhost:8080/"
        }
      },
      "source": [
        "n_splits = 5\n",
        "\n",
        "for C in tqdm([0.01, 0.1, 1, 10]):\n",
        "    kfold = KFold(n_splits=n_splits, shuffle=True, random_state=1)\n",
        "\n",
        "    scores = []\n",
        "\n",
        "    for train_idx, val_idx in kfold.split(df_train_full):\n",
        "\n",
        "        df_train = df_train_full.iloc[train_idx]\n",
        "        df_val = df_train_full.iloc[val_idx]\n",
        "\n",
        "        y_train = y_train_full[train_idx]\n",
        "        y_val = y_train_full[val_idx]\n",
        "\n",
        "\n",
        "        train_dict = df_train[features_selected].to_dict(orient='records')\n",
        "        X_train = dv.fit_transform(train_dict)\n",
        "\n",
        "        model = LogisticRegression(solver='liblinear', C=C, max_iter=1000)\n",
        "        model.fit(X_train, y_train)\n",
        "\n",
        "        X_val = dv.transform(df_val[features_selected].to_dict(orient='records'))\n",
        "        y_pred = model.predict_proba(X_val)[:, 1]\n",
        "\n",
        "        auc = roc_auc_score(y_val, y_pred)\n",
        "        scores.append(auc)\n",
        "\n",
        "    print('C=%s %.3f +- %.3f' % (C, np.mean(scores), np.std(scores)))"
      ],
      "execution_count": 33,
      "outputs": [
        {
          "output_type": "stream",
          "name": "stderr",
          "text": [
            " 25%|██▌       | 1/4 [00:00<00:01,  1.76it/s]"
          ]
        },
        {
          "output_type": "stream",
          "name": "stdout",
          "text": [
            "C=0.01 0.808 +- 0.012\n"
          ]
        },
        {
          "output_type": "stream",
          "name": "stderr",
          "text": [
            "\r 50%|█████     | 2/4 [00:01<00:01,  1.66it/s]"
          ]
        },
        {
          "output_type": "stream",
          "name": "stdout",
          "text": [
            "C=0.1 0.813 +- 0.014\n"
          ]
        },
        {
          "output_type": "stream",
          "name": "stderr",
          "text": [
            "\r 75%|███████▌  | 3/4 [00:01<00:00,  1.64it/s]"
          ]
        },
        {
          "output_type": "stream",
          "name": "stdout",
          "text": [
            "C=1 0.812 +- 0.014\n"
          ]
        },
        {
          "output_type": "stream",
          "name": "stderr",
          "text": [
            "100%|██████████| 4/4 [00:02<00:00,  1.65it/s]"
          ]
        },
        {
          "output_type": "stream",
          "name": "stdout",
          "text": [
            "C=10 0.814 +- 0.015\n"
          ]
        },
        {
          "output_type": "stream",
          "name": "stderr",
          "text": [
            "\n"
          ]
        }
      ]
    },
    {
      "cell_type": "markdown",
      "metadata": {
        "id": "wMDjY4SFdw9H"
      },
      "source": [
        "Which C leads to the best mean score?\n",
        "\n",
        "- 0.01\n",
        "- 0.1\n",
        "- 1\n",
        "- 10\n",
        "\n",
        "If you have ties, select the score with the lowest std. If you still have ties, select the smallest C"
      ]
    },
    {
      "cell_type": "markdown",
      "metadata": {
        "id": "L2NDQzn_dw9I"
      },
      "source": [
        "## Submit the results\n",
        "\n",
        "Submit your results here: https://forms.gle/e497sR5iB36mM9Cs5\n",
        "\n",
        "It's possible that your answers won't match exactly. If it's the case, select the closest one.\n",
        "\n",
        "## Deadline\n",
        "\n",
        "The deadline for submitting is 04 October 2021, 17:00 CET. After that, the form will be closed."
      ]
    }
  ]
}