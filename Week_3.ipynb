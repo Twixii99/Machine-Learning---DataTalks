{
  "nbformat": 4,
  "nbformat_minor": 0,
  "metadata": {
    "colab": {
      "name": "Week 3.ipynb",
      "provenance": [],
      "collapsed_sections": [],
      "authorship_tag": "ABX9TyOVMiJVfDHfMTRIhbVO9+oL",
      "include_colab_link": true
    },
    "kernelspec": {
      "name": "python3",
      "display_name": "Python 3"
    },
    "language_info": {
      "name": "python"
    },
    "accelerator": "GPU"
  },
  "cells": [
    {
      "cell_type": "markdown",
      "metadata": {
        "id": "view-in-github",
        "colab_type": "text"
      },
      "source": [
        "<a href=\"https://colab.research.google.com/github/Twixii99/Machine-Learning---DataTalks/blob/main/Week_3.ipynb\" target=\"_parent\"><img src=\"https://colab.research.google.com/assets/colab-badge.svg\" alt=\"Open In Colab\"/></a>"
      ]
    },
    {
      "cell_type": "markdown",
      "metadata": {
        "id": "JbrSWFIHupgR"
      },
      "source": [
        "# Import used Packages"
      ]
    },
    {
      "cell_type": "code",
      "metadata": {
        "id": "PLpXab3UV6-4"
      },
      "source": [
        "import numpy as np\n",
        "import pandas as pd\n",
        "import matplotlib.pyplot as plt\n",
        "import seaborn as sns\n",
        "\n",
        "import warnings\n",
        "warnings.filterwarnings(\"ignore\")\n",
        "%matplotlib inline"
      ],
      "execution_count": 81,
      "outputs": []
    },
    {
      "cell_type": "markdown",
      "metadata": {
        "id": "WEP9IF0muxHx"
      },
      "source": [
        "# Data Preparation"
      ]
    },
    {
      "cell_type": "code",
      "metadata": {
        "colab": {
          "base_uri": "https://localhost:8080/"
        },
        "id": "JG7F6DAhImBJ",
        "outputId": "c31dbfee-3ec3-483a-b19b-2f9b055732cd"
      },
      "source": [
        "!wget https://raw.githubusercontent.com/alexeygrigorev/datasets/master/AB_NYC_2019.csv -O 'New York City Airbnb2.csv'"
      ],
      "execution_count": 82,
      "outputs": [
        {
          "output_type": "stream",
          "name": "stdout",
          "text": [
            "--2021-09-27 11:00:30--  https://raw.githubusercontent.com/alexeygrigorev/datasets/master/AB_NYC_2019.csv\n",
            "Resolving raw.githubusercontent.com (raw.githubusercontent.com)... 185.199.109.133, 185.199.111.133, 185.199.108.133, ...\n",
            "Connecting to raw.githubusercontent.com (raw.githubusercontent.com)|185.199.109.133|:443... connected.\n",
            "HTTP request sent, awaiting response... 200 OK\n",
            "Length: 7077973 (6.8M) [text/plain]\n",
            "Saving to: ‘New York City Airbnb2.csv’\n",
            "\n",
            "New York City Airbn 100%[===================>]   6.75M  --.-KB/s    in 0.08s   \n",
            "\n",
            "2021-09-27 11:00:30 (82.9 MB/s) - ‘New York City Airbnb2.csv’ saved [7077973/7077973]\n",
            "\n"
          ]
        }
      ]
    },
    {
      "cell_type": "code",
      "metadata": {
        "colab": {
          "base_uri": "https://localhost:8080/",
          "height": 419
        },
        "id": "YitKGZViKk0_",
        "outputId": "6eaa86ae-2bdc-47fd-fd02-1da9b5b08984"
      },
      "source": [
        "used_cols = ['neighbourhood_group',\n",
        "'room_type',\n",
        "'latitude',\n",
        "'longitude',\n",
        "'price',\n",
        "'minimum_nights',\n",
        "'number_of_reviews',\n",
        "'reviews_per_month',\n",
        "'calculated_host_listings_count',\n",
        "'availability_365']\n",
        "\n",
        "df = pd.read_csv('New York City Airbnb2.csv', usecols=used_cols).fillna(0)\n",
        "df"
      ],
      "execution_count": 83,
      "outputs": [
        {
          "output_type": "execute_result",
          "data": {
            "text/html": [
              "<div>\n",
              "<style scoped>\n",
              "    .dataframe tbody tr th:only-of-type {\n",
              "        vertical-align: middle;\n",
              "    }\n",
              "\n",
              "    .dataframe tbody tr th {\n",
              "        vertical-align: top;\n",
              "    }\n",
              "\n",
              "    .dataframe thead th {\n",
              "        text-align: right;\n",
              "    }\n",
              "</style>\n",
              "<table border=\"1\" class=\"dataframe\">\n",
              "  <thead>\n",
              "    <tr style=\"text-align: right;\">\n",
              "      <th></th>\n",
              "      <th>neighbourhood_group</th>\n",
              "      <th>latitude</th>\n",
              "      <th>longitude</th>\n",
              "      <th>room_type</th>\n",
              "      <th>price</th>\n",
              "      <th>minimum_nights</th>\n",
              "      <th>number_of_reviews</th>\n",
              "      <th>reviews_per_month</th>\n",
              "      <th>calculated_host_listings_count</th>\n",
              "      <th>availability_365</th>\n",
              "    </tr>\n",
              "  </thead>\n",
              "  <tbody>\n",
              "    <tr>\n",
              "      <th>0</th>\n",
              "      <td>Brooklyn</td>\n",
              "      <td>40.64749</td>\n",
              "      <td>-73.97237</td>\n",
              "      <td>Private room</td>\n",
              "      <td>149</td>\n",
              "      <td>1</td>\n",
              "      <td>9</td>\n",
              "      <td>0.21</td>\n",
              "      <td>6</td>\n",
              "      <td>365</td>\n",
              "    </tr>\n",
              "    <tr>\n",
              "      <th>1</th>\n",
              "      <td>Manhattan</td>\n",
              "      <td>40.75362</td>\n",
              "      <td>-73.98377</td>\n",
              "      <td>Entire home/apt</td>\n",
              "      <td>225</td>\n",
              "      <td>1</td>\n",
              "      <td>45</td>\n",
              "      <td>0.38</td>\n",
              "      <td>2</td>\n",
              "      <td>355</td>\n",
              "    </tr>\n",
              "    <tr>\n",
              "      <th>2</th>\n",
              "      <td>Manhattan</td>\n",
              "      <td>40.80902</td>\n",
              "      <td>-73.94190</td>\n",
              "      <td>Private room</td>\n",
              "      <td>150</td>\n",
              "      <td>3</td>\n",
              "      <td>0</td>\n",
              "      <td>0.00</td>\n",
              "      <td>1</td>\n",
              "      <td>365</td>\n",
              "    </tr>\n",
              "    <tr>\n",
              "      <th>3</th>\n",
              "      <td>Brooklyn</td>\n",
              "      <td>40.68514</td>\n",
              "      <td>-73.95976</td>\n",
              "      <td>Entire home/apt</td>\n",
              "      <td>89</td>\n",
              "      <td>1</td>\n",
              "      <td>270</td>\n",
              "      <td>4.64</td>\n",
              "      <td>1</td>\n",
              "      <td>194</td>\n",
              "    </tr>\n",
              "    <tr>\n",
              "      <th>4</th>\n",
              "      <td>Manhattan</td>\n",
              "      <td>40.79851</td>\n",
              "      <td>-73.94399</td>\n",
              "      <td>Entire home/apt</td>\n",
              "      <td>80</td>\n",
              "      <td>10</td>\n",
              "      <td>9</td>\n",
              "      <td>0.10</td>\n",
              "      <td>1</td>\n",
              "      <td>0</td>\n",
              "    </tr>\n",
              "    <tr>\n",
              "      <th>...</th>\n",
              "      <td>...</td>\n",
              "      <td>...</td>\n",
              "      <td>...</td>\n",
              "      <td>...</td>\n",
              "      <td>...</td>\n",
              "      <td>...</td>\n",
              "      <td>...</td>\n",
              "      <td>...</td>\n",
              "      <td>...</td>\n",
              "      <td>...</td>\n",
              "    </tr>\n",
              "    <tr>\n",
              "      <th>48890</th>\n",
              "      <td>Brooklyn</td>\n",
              "      <td>40.67853</td>\n",
              "      <td>-73.94995</td>\n",
              "      <td>Private room</td>\n",
              "      <td>70</td>\n",
              "      <td>2</td>\n",
              "      <td>0</td>\n",
              "      <td>0.00</td>\n",
              "      <td>2</td>\n",
              "      <td>9</td>\n",
              "    </tr>\n",
              "    <tr>\n",
              "      <th>48891</th>\n",
              "      <td>Brooklyn</td>\n",
              "      <td>40.70184</td>\n",
              "      <td>-73.93317</td>\n",
              "      <td>Private room</td>\n",
              "      <td>40</td>\n",
              "      <td>4</td>\n",
              "      <td>0</td>\n",
              "      <td>0.00</td>\n",
              "      <td>2</td>\n",
              "      <td>36</td>\n",
              "    </tr>\n",
              "    <tr>\n",
              "      <th>48892</th>\n",
              "      <td>Manhattan</td>\n",
              "      <td>40.81475</td>\n",
              "      <td>-73.94867</td>\n",
              "      <td>Entire home/apt</td>\n",
              "      <td>115</td>\n",
              "      <td>10</td>\n",
              "      <td>0</td>\n",
              "      <td>0.00</td>\n",
              "      <td>1</td>\n",
              "      <td>27</td>\n",
              "    </tr>\n",
              "    <tr>\n",
              "      <th>48893</th>\n",
              "      <td>Manhattan</td>\n",
              "      <td>40.75751</td>\n",
              "      <td>-73.99112</td>\n",
              "      <td>Shared room</td>\n",
              "      <td>55</td>\n",
              "      <td>1</td>\n",
              "      <td>0</td>\n",
              "      <td>0.00</td>\n",
              "      <td>6</td>\n",
              "      <td>2</td>\n",
              "    </tr>\n",
              "    <tr>\n",
              "      <th>48894</th>\n",
              "      <td>Manhattan</td>\n",
              "      <td>40.76404</td>\n",
              "      <td>-73.98933</td>\n",
              "      <td>Private room</td>\n",
              "      <td>90</td>\n",
              "      <td>7</td>\n",
              "      <td>0</td>\n",
              "      <td>0.00</td>\n",
              "      <td>1</td>\n",
              "      <td>23</td>\n",
              "    </tr>\n",
              "  </tbody>\n",
              "</table>\n",
              "<p>48895 rows × 10 columns</p>\n",
              "</div>"
            ],
            "text/plain": [
              "      neighbourhood_group  ...  availability_365\n",
              "0                Brooklyn  ...               365\n",
              "1               Manhattan  ...               355\n",
              "2               Manhattan  ...               365\n",
              "3                Brooklyn  ...               194\n",
              "4               Manhattan  ...                 0\n",
              "...                   ...  ...               ...\n",
              "48890            Brooklyn  ...                 9\n",
              "48891            Brooklyn  ...                36\n",
              "48892           Manhattan  ...                27\n",
              "48893           Manhattan  ...                 2\n",
              "48894           Manhattan  ...                23\n",
              "\n",
              "[48895 rows x 10 columns]"
            ]
          },
          "metadata": {},
          "execution_count": 83
        }
      ]
    },
    {
      "cell_type": "code",
      "metadata": {
        "colab": {
          "base_uri": "https://localhost:8080/",
          "height": 204
        },
        "id": "QJZcv-05LIIt",
        "outputId": "4ad47f33-36f5-480b-99f2-df707a074c9e"
      },
      "source": [
        "for col in df[df.dtypes[df.dtypes == object].index.to_list()]:\n",
        "  df[col] = df[col].str.lower().str.replace(' ', '_')\n",
        "df.head()"
      ],
      "execution_count": 84,
      "outputs": [
        {
          "output_type": "execute_result",
          "data": {
            "text/html": [
              "<div>\n",
              "<style scoped>\n",
              "    .dataframe tbody tr th:only-of-type {\n",
              "        vertical-align: middle;\n",
              "    }\n",
              "\n",
              "    .dataframe tbody tr th {\n",
              "        vertical-align: top;\n",
              "    }\n",
              "\n",
              "    .dataframe thead th {\n",
              "        text-align: right;\n",
              "    }\n",
              "</style>\n",
              "<table border=\"1\" class=\"dataframe\">\n",
              "  <thead>\n",
              "    <tr style=\"text-align: right;\">\n",
              "      <th></th>\n",
              "      <th>neighbourhood_group</th>\n",
              "      <th>latitude</th>\n",
              "      <th>longitude</th>\n",
              "      <th>room_type</th>\n",
              "      <th>price</th>\n",
              "      <th>minimum_nights</th>\n",
              "      <th>number_of_reviews</th>\n",
              "      <th>reviews_per_month</th>\n",
              "      <th>calculated_host_listings_count</th>\n",
              "      <th>availability_365</th>\n",
              "    </tr>\n",
              "  </thead>\n",
              "  <tbody>\n",
              "    <tr>\n",
              "      <th>0</th>\n",
              "      <td>brooklyn</td>\n",
              "      <td>40.64749</td>\n",
              "      <td>-73.97237</td>\n",
              "      <td>private_room</td>\n",
              "      <td>149</td>\n",
              "      <td>1</td>\n",
              "      <td>9</td>\n",
              "      <td>0.21</td>\n",
              "      <td>6</td>\n",
              "      <td>365</td>\n",
              "    </tr>\n",
              "    <tr>\n",
              "      <th>1</th>\n",
              "      <td>manhattan</td>\n",
              "      <td>40.75362</td>\n",
              "      <td>-73.98377</td>\n",
              "      <td>entire_home/apt</td>\n",
              "      <td>225</td>\n",
              "      <td>1</td>\n",
              "      <td>45</td>\n",
              "      <td>0.38</td>\n",
              "      <td>2</td>\n",
              "      <td>355</td>\n",
              "    </tr>\n",
              "    <tr>\n",
              "      <th>2</th>\n",
              "      <td>manhattan</td>\n",
              "      <td>40.80902</td>\n",
              "      <td>-73.94190</td>\n",
              "      <td>private_room</td>\n",
              "      <td>150</td>\n",
              "      <td>3</td>\n",
              "      <td>0</td>\n",
              "      <td>0.00</td>\n",
              "      <td>1</td>\n",
              "      <td>365</td>\n",
              "    </tr>\n",
              "    <tr>\n",
              "      <th>3</th>\n",
              "      <td>brooklyn</td>\n",
              "      <td>40.68514</td>\n",
              "      <td>-73.95976</td>\n",
              "      <td>entire_home/apt</td>\n",
              "      <td>89</td>\n",
              "      <td>1</td>\n",
              "      <td>270</td>\n",
              "      <td>4.64</td>\n",
              "      <td>1</td>\n",
              "      <td>194</td>\n",
              "    </tr>\n",
              "    <tr>\n",
              "      <th>4</th>\n",
              "      <td>manhattan</td>\n",
              "      <td>40.79851</td>\n",
              "      <td>-73.94399</td>\n",
              "      <td>entire_home/apt</td>\n",
              "      <td>80</td>\n",
              "      <td>10</td>\n",
              "      <td>9</td>\n",
              "      <td>0.10</td>\n",
              "      <td>1</td>\n",
              "      <td>0</td>\n",
              "    </tr>\n",
              "  </tbody>\n",
              "</table>\n",
              "</div>"
            ],
            "text/plain": [
              "  neighbourhood_group  ...  availability_365\n",
              "0            brooklyn  ...               365\n",
              "1           manhattan  ...               355\n",
              "2           manhattan  ...               365\n",
              "3            brooklyn  ...               194\n",
              "4           manhattan  ...                 0\n",
              "\n",
              "[5 rows x 10 columns]"
            ]
          },
          "metadata": {},
          "execution_count": 84
        }
      ]
    },
    {
      "cell_type": "markdown",
      "metadata": {
        "id": "dhjjwMo3vGfr"
      },
      "source": [
        "# Question 1"
      ]
    },
    {
      "cell_type": "code",
      "metadata": {
        "colab": {
          "base_uri": "https://localhost:8080/",
          "height": 35
        },
        "id": "RXocBaZNLI_T",
        "outputId": "eeb05ee1-c8ee-470e-dd0a-f9590e968aad"
      },
      "source": [
        "df.neighbourhood_group.value_counts().sort_values(ascending=False).index[0]"
      ],
      "execution_count": 85,
      "outputs": [
        {
          "output_type": "execute_result",
          "data": {
            "application/vnd.google.colaboratory.intrinsic+json": {
              "type": "string"
            },
            "text/plain": [
              "'manhattan'"
            ]
          },
          "metadata": {},
          "execution_count": 85
        }
      ]
    },
    {
      "cell_type": "code",
      "metadata": {
        "id": "h_GrdcJvN8t2"
      },
      "source": [
        "from sklearn.model_selection import train_test_split"
      ],
      "execution_count": 86,
      "outputs": []
    },
    {
      "cell_type": "code",
      "metadata": {
        "id": "AU05YHiSNOMK"
      },
      "source": [
        "df_train_validate, df_test = train_test_split(df, test_size=0.2, shuffle=True, random_state=42)\n",
        "df_train, df_validate = train_test_split(df_train_validate, test_size=0.25, shuffle=True, random_state=42)"
      ],
      "execution_count": 87,
      "outputs": []
    },
    {
      "cell_type": "code",
      "metadata": {
        "colab": {
          "base_uri": "https://localhost:8080/"
        },
        "id": "ghNSX1RMOM95",
        "outputId": "974edb6a-4dde-4cf6-dfbd-a98e2bca0cd7"
      },
      "source": [
        "assert(len(df_train) + len(df_validate) == len(df_train_validate))\n",
        "assert(len(df_train) + len(df_validate) + len(df_test) == len(df))\n",
        "len(df_train), len(df_validate), len(df_test)"
      ],
      "execution_count": 88,
      "outputs": [
        {
          "output_type": "execute_result",
          "data": {
            "text/plain": [
              "(29337, 9779, 9779)"
            ]
          },
          "metadata": {},
          "execution_count": 88
        }
      ]
    },
    {
      "cell_type": "code",
      "metadata": {
        "id": "TUozxhk_Oly-"
      },
      "source": [
        "df_train = df_train.reset_index(drop=True)\n",
        "df_validate = df_validate.reset_index(drop=True)\n",
        "df_test = df_test.reset_index(drop=True)"
      ],
      "execution_count": 89,
      "outputs": []
    },
    {
      "cell_type": "code",
      "metadata": {
        "id": "gLY70ouXO1rx"
      },
      "source": [
        "y_train = df_train.price\n",
        "y_validate = df_validate.price\n",
        "y_test = df_test.price\n",
        "\n",
        "del df_train['price']\n",
        "del df_validate['price']\n",
        "del df_test['price']"
      ],
      "execution_count": 90,
      "outputs": []
    },
    {
      "cell_type": "markdown",
      "metadata": {
        "id": "aagB08tICSq8"
      },
      "source": [
        "# Question2"
      ]
    },
    {
      "cell_type": "code",
      "metadata": {
        "colab": {
          "base_uri": "https://localhost:8080/"
        },
        "id": "fOe5FajIPnPS",
        "outputId": "c0a3e059-7ca5-4a54-ad8b-574e80a540f5"
      },
      "source": [
        "numerical = df_train[df_train.dtypes[df_train.dtypes != object].index.to_list()]\n",
        "numerical.dtypes"
      ],
      "execution_count": 91,
      "outputs": [
        {
          "output_type": "execute_result",
          "data": {
            "text/plain": [
              "latitude                          float64\n",
              "longitude                         float64\n",
              "minimum_nights                      int64\n",
              "number_of_reviews                   int64\n",
              "reviews_per_month                 float64\n",
              "calculated_host_listings_count      int64\n",
              "availability_365                    int64\n",
              "dtype: object"
            ]
          },
          "metadata": {},
          "execution_count": 91
        }
      ]
    },
    {
      "cell_type": "code",
      "metadata": {
        "id": "g5ou1CUdUTPS"
      },
      "source": [
        "from IPython.display import display"
      ],
      "execution_count": 92,
      "outputs": []
    },
    {
      "cell_type": "code",
      "metadata": {
        "colab": {
          "base_uri": "https://localhost:8080/",
          "height": 1000
        },
        "id": "lPLxjZFmTPHs",
        "outputId": "9ec6fd8f-5d0d-4b0f-90c6-d86f5c09c4f8"
      },
      "source": [
        "# Trivial solution\n",
        "for col in numerical.columns:\n",
        "  print(\"COL: \", col)\n",
        "  display(numerical.corrwith(numerical[col]))\n",
        "  print()\n",
        "  print()"
      ],
      "execution_count": 93,
      "outputs": [
        {
          "output_type": "stream",
          "name": "stdout",
          "text": [
            "COL:  latitude\n"
          ]
        },
        {
          "output_type": "display_data",
          "data": {
            "text/plain": [
              "latitude                          1.000000\n",
              "longitude                         0.080301\n",
              "minimum_nights                    0.027441\n",
              "number_of_reviews                -0.006246\n",
              "reviews_per_month                -0.007159\n",
              "calculated_host_listings_count    0.019375\n",
              "availability_365                 -0.005891\n",
              "dtype: float64"
            ]
          },
          "metadata": {}
        },
        {
          "output_type": "stream",
          "name": "stdout",
          "text": [
            "\n",
            "\n",
            "COL:  longitude\n"
          ]
        },
        {
          "output_type": "display_data",
          "data": {
            "text/plain": [
              "latitude                          0.080301\n",
              "longitude                         1.000000\n",
              "minimum_nights                   -0.060660\n",
              "number_of_reviews                 0.055084\n",
              "reviews_per_month                 0.134642\n",
              "calculated_host_listings_count   -0.117041\n",
              "availability_365                  0.083666\n",
              "dtype: float64"
            ]
          },
          "metadata": {}
        },
        {
          "output_type": "stream",
          "name": "stdout",
          "text": [
            "\n",
            "\n",
            "COL:  minimum_nights\n"
          ]
        },
        {
          "output_type": "display_data",
          "data": {
            "text/plain": [
              "latitude                          0.027441\n",
              "longitude                        -0.060660\n",
              "minimum_nights                    1.000000\n",
              "number_of_reviews                -0.076020\n",
              "reviews_per_month                -0.120703\n",
              "calculated_host_listings_count    0.118647\n",
              "availability_365                  0.138901\n",
              "dtype: float64"
            ]
          },
          "metadata": {}
        },
        {
          "output_type": "stream",
          "name": "stdout",
          "text": [
            "\n",
            "\n",
            "COL:  number_of_reviews\n"
          ]
        },
        {
          "output_type": "display_data",
          "data": {
            "text/plain": [
              "latitude                         -0.006246\n",
              "longitude                         0.055084\n",
              "minimum_nights                   -0.076020\n",
              "number_of_reviews                 1.000000\n",
              "reviews_per_month                 0.590374\n",
              "calculated_host_listings_count   -0.073167\n",
              "availability_365                  0.174477\n",
              "dtype: float64"
            ]
          },
          "metadata": {}
        },
        {
          "output_type": "stream",
          "name": "stdout",
          "text": [
            "\n",
            "\n",
            "COL:  reviews_per_month\n"
          ]
        },
        {
          "output_type": "display_data",
          "data": {
            "text/plain": [
              "latitude                         -0.007159\n",
              "longitude                         0.134642\n",
              "minimum_nights                   -0.120703\n",
              "number_of_reviews                 0.590374\n",
              "reviews_per_month                 1.000000\n",
              "calculated_host_listings_count   -0.048767\n",
              "availability_365                  0.165376\n",
              "dtype: float64"
            ]
          },
          "metadata": {}
        },
        {
          "output_type": "stream",
          "name": "stdout",
          "text": [
            "\n",
            "\n",
            "COL:  calculated_host_listings_count\n"
          ]
        },
        {
          "output_type": "display_data",
          "data": {
            "text/plain": [
              "latitude                          0.019375\n",
              "longitude                        -0.117041\n",
              "minimum_nights                    0.118647\n",
              "number_of_reviews                -0.073167\n",
              "reviews_per_month                -0.048767\n",
              "calculated_host_listings_count    1.000000\n",
              "availability_365                  0.225913\n",
              "dtype: float64"
            ]
          },
          "metadata": {}
        },
        {
          "output_type": "stream",
          "name": "stdout",
          "text": [
            "\n",
            "\n",
            "COL:  availability_365\n"
          ]
        },
        {
          "output_type": "display_data",
          "data": {
            "text/plain": [
              "latitude                         -0.005891\n",
              "longitude                         0.083666\n",
              "minimum_nights                    0.138901\n",
              "number_of_reviews                 0.174477\n",
              "reviews_per_month                 0.165376\n",
              "calculated_host_listings_count    0.225913\n",
              "availability_365                  1.000000\n",
              "dtype: float64"
            ]
          },
          "metadata": {}
        },
        {
          "output_type": "stream",
          "name": "stdout",
          "text": [
            "\n",
            "\n"
          ]
        }
      ]
    },
    {
      "cell_type": "code",
      "metadata": {
        "colab": {
          "base_uri": "https://localhost:8080/",
          "height": 266
        },
        "id": "wwjgZwC0UIDg",
        "outputId": "14112292-31d1-4336-c387-964bea273095"
      },
      "source": [
        "# Already implemented solution\n",
        "correlation_matrix = numerical.corr()\n",
        "correlation_matrix"
      ],
      "execution_count": 94,
      "outputs": [
        {
          "output_type": "execute_result",
          "data": {
            "text/html": [
              "<div>\n",
              "<style scoped>\n",
              "    .dataframe tbody tr th:only-of-type {\n",
              "        vertical-align: middle;\n",
              "    }\n",
              "\n",
              "    .dataframe tbody tr th {\n",
              "        vertical-align: top;\n",
              "    }\n",
              "\n",
              "    .dataframe thead th {\n",
              "        text-align: right;\n",
              "    }\n",
              "</style>\n",
              "<table border=\"1\" class=\"dataframe\">\n",
              "  <thead>\n",
              "    <tr style=\"text-align: right;\">\n",
              "      <th></th>\n",
              "      <th>latitude</th>\n",
              "      <th>longitude</th>\n",
              "      <th>minimum_nights</th>\n",
              "      <th>number_of_reviews</th>\n",
              "      <th>reviews_per_month</th>\n",
              "      <th>calculated_host_listings_count</th>\n",
              "      <th>availability_365</th>\n",
              "    </tr>\n",
              "  </thead>\n",
              "  <tbody>\n",
              "    <tr>\n",
              "      <th>latitude</th>\n",
              "      <td>1.000000</td>\n",
              "      <td>0.080301</td>\n",
              "      <td>0.027441</td>\n",
              "      <td>-0.006246</td>\n",
              "      <td>-0.007159</td>\n",
              "      <td>0.019375</td>\n",
              "      <td>-0.005891</td>\n",
              "    </tr>\n",
              "    <tr>\n",
              "      <th>longitude</th>\n",
              "      <td>0.080301</td>\n",
              "      <td>1.000000</td>\n",
              "      <td>-0.060660</td>\n",
              "      <td>0.055084</td>\n",
              "      <td>0.134642</td>\n",
              "      <td>-0.117041</td>\n",
              "      <td>0.083666</td>\n",
              "    </tr>\n",
              "    <tr>\n",
              "      <th>minimum_nights</th>\n",
              "      <td>0.027441</td>\n",
              "      <td>-0.060660</td>\n",
              "      <td>1.000000</td>\n",
              "      <td>-0.076020</td>\n",
              "      <td>-0.120703</td>\n",
              "      <td>0.118647</td>\n",
              "      <td>0.138901</td>\n",
              "    </tr>\n",
              "    <tr>\n",
              "      <th>number_of_reviews</th>\n",
              "      <td>-0.006246</td>\n",
              "      <td>0.055084</td>\n",
              "      <td>-0.076020</td>\n",
              "      <td>1.000000</td>\n",
              "      <td>0.590374</td>\n",
              "      <td>-0.073167</td>\n",
              "      <td>0.174477</td>\n",
              "    </tr>\n",
              "    <tr>\n",
              "      <th>reviews_per_month</th>\n",
              "      <td>-0.007159</td>\n",
              "      <td>0.134642</td>\n",
              "      <td>-0.120703</td>\n",
              "      <td>0.590374</td>\n",
              "      <td>1.000000</td>\n",
              "      <td>-0.048767</td>\n",
              "      <td>0.165376</td>\n",
              "    </tr>\n",
              "    <tr>\n",
              "      <th>calculated_host_listings_count</th>\n",
              "      <td>0.019375</td>\n",
              "      <td>-0.117041</td>\n",
              "      <td>0.118647</td>\n",
              "      <td>-0.073167</td>\n",
              "      <td>-0.048767</td>\n",
              "      <td>1.000000</td>\n",
              "      <td>0.225913</td>\n",
              "    </tr>\n",
              "    <tr>\n",
              "      <th>availability_365</th>\n",
              "      <td>-0.005891</td>\n",
              "      <td>0.083666</td>\n",
              "      <td>0.138901</td>\n",
              "      <td>0.174477</td>\n",
              "      <td>0.165376</td>\n",
              "      <td>0.225913</td>\n",
              "      <td>1.000000</td>\n",
              "    </tr>\n",
              "  </tbody>\n",
              "</table>\n",
              "</div>"
            ],
            "text/plain": [
              "                                latitude  ...  availability_365\n",
              "latitude                        1.000000  ...         -0.005891\n",
              "longitude                       0.080301  ...          0.083666\n",
              "minimum_nights                  0.027441  ...          0.138901\n",
              "number_of_reviews              -0.006246  ...          0.174477\n",
              "reviews_per_month              -0.007159  ...          0.165376\n",
              "calculated_host_listings_count  0.019375  ...          0.225913\n",
              "availability_365               -0.005891  ...          1.000000\n",
              "\n",
              "[7 rows x 7 columns]"
            ]
          },
          "metadata": {},
          "execution_count": 94
        }
      ]
    },
    {
      "cell_type": "code",
      "metadata": {
        "colab": {
          "base_uri": "https://localhost:8080/"
        },
        "id": "Q4JdCjuBVvwz",
        "outputId": "37d41a73-5292-48a8-e209-6040b3500664"
      },
      "source": [
        "max_val = 1e-6\n",
        "for col in correlation_matrix.columns:\n",
        "  temp = correlation_matrix[col].nlargest(2)[1]\n",
        "  if max_val <= temp:\n",
        "    max_val = temp\n",
        "    max_col = col\n",
        "  \n",
        "print(max_col.upper(), \"has\",  round(max_val, 2))"
      ],
      "execution_count": 95,
      "outputs": [
        {
          "output_type": "stream",
          "name": "stdout",
          "text": [
            "REVIEWS_PER_MONTH has 0.59\n"
          ]
        }
      ]
    },
    {
      "cell_type": "code",
      "metadata": {
        "id": "p2JRvvH7V5Sg"
      },
      "source": [
        "# Converting prices into boolean data.\n",
        "threshold = 152\n",
        "y_train_bool = (y_train >= threshold).astype(int)\n",
        "y_validate_bool = (y_validate >= threshold).astype(int)\n",
        "y_test_bool = (y_test >= threshold).astype(int)\n",
        "df_train_validate['price'] = (df_train_validate['price'] >= threshold).astype(int)"
      ],
      "execution_count": 96,
      "outputs": []
    },
    {
      "cell_type": "code",
      "metadata": {
        "id": "jpCRj0VMb4G9"
      },
      "source": [
        "assert(df_train_validate.price.value_counts()[0] == y_train_bool.value_counts()[0] + y_validate_bool.value_counts()[0])\n",
        "assert(df_train_validate.price.value_counts()[1] == y_train_bool.value_counts()[1] + y_validate_bool.value_counts()[1])"
      ],
      "execution_count": 97,
      "outputs": []
    },
    {
      "cell_type": "markdown",
      "metadata": {
        "id": "oLUjD9t6w4N9"
      },
      "source": [
        "# Question 3"
      ]
    },
    {
      "cell_type": "code",
      "metadata": {
        "colab": {
          "base_uri": "https://localhost:8080/"
        },
        "id": "IQeurgLBem-L",
        "outputId": "4c2d454f-7d5e-4247-da10-2248499e6808"
      },
      "source": [
        "categorical = df_train.dtypes[df_train.dtypes == object].index.to_list()\n",
        "categorical"
      ],
      "execution_count": 98,
      "outputs": [
        {
          "output_type": "execute_result",
          "data": {
            "text/plain": [
              "['neighbourhood_group', 'room_type']"
            ]
          },
          "metadata": {},
          "execution_count": 98
        }
      ]
    },
    {
      "cell_type": "code",
      "metadata": {
        "id": "tYVSlNExhp_a"
      },
      "source": [
        "from sklearn.metrics import mutual_info_score"
      ],
      "execution_count": 99,
      "outputs": []
    },
    {
      "cell_type": "code",
      "metadata": {
        "id": "WVMKYKxhhw8q"
      },
      "source": [
        "def mutual_information(series):\n",
        "  return mutual_info_score(series, y_train_bool)"
      ],
      "execution_count": 100,
      "outputs": []
    },
    {
      "cell_type": "code",
      "metadata": {
        "colab": {
          "base_uri": "https://localhost:8080/"
        },
        "id": "_uNl1rd7e4fT",
        "outputId": "48ec5f0e-cc6a-4419-9ce2-fa9946fd501e"
      },
      "source": [
        "df_train[categorical].apply(mutual_information).sort_values(ascending=False).round(2)"
      ],
      "execution_count": 101,
      "outputs": [
        {
          "output_type": "execute_result",
          "data": {
            "text/plain": [
              "room_type              0.14\n",
              "neighbourhood_group    0.05\n",
              "dtype: float64"
            ]
          },
          "metadata": {},
          "execution_count": 101
        }
      ]
    },
    {
      "cell_type": "markdown",
      "metadata": {
        "id": "n1gRpIb1yvJX"
      },
      "source": [
        "# Question 4"
      ]
    },
    {
      "cell_type": "code",
      "metadata": {
        "id": "ALZSMiwdiHy0"
      },
      "source": [
        "from sklearn.linear_model import LogisticRegression\n",
        "from sklearn.feature_extraction import DictVectorizer"
      ],
      "execution_count": 102,
      "outputs": []
    },
    {
      "cell_type": "code",
      "metadata": {
        "id": "f0EpuDXujN06"
      },
      "source": [
        "dv = DictVectorizer(sparse=False)\n",
        "X_train = dv.fit_transform(df_train.to_dict(orient='records'))\n",
        "X_validate = dv.transform(df_validate.to_dict(orient='records'))"
      ],
      "execution_count": 103,
      "outputs": []
    },
    {
      "cell_type": "code",
      "metadata": {
        "id": "kDybR_wojloL"
      },
      "source": [
        "model = LogisticRegression(solver='lbfgs', C=1.0, random_state=42).fit(X_train, y_train_bool)"
      ],
      "execution_count": 104,
      "outputs": []
    },
    {
      "cell_type": "code",
      "metadata": {
        "id": "7B9J6tfUkcDi"
      },
      "source": [
        "prediction = model.predict_proba(X_validate)\n",
        "decision = (prediction[:,1] >= 0.5).astype(int)"
      ],
      "execution_count": 105,
      "outputs": []
    },
    {
      "cell_type": "code",
      "metadata": {
        "colab": {
          "base_uri": "https://localhost:8080/"
        },
        "id": "phB7vtSqlKTe",
        "outputId": "2c567814-8917-4961-d83b-9d72ef2f627b"
      },
      "source": [
        "global_accurecy = (decision == y_validate_bool).mean().round(2)\n",
        "global_accurecy"
      ],
      "execution_count": 106,
      "outputs": [
        {
          "output_type": "execute_result",
          "data": {
            "text/plain": [
              "0.79"
            ]
          },
          "metadata": {},
          "execution_count": 106
        }
      ]
    },
    {
      "cell_type": "markdown",
      "metadata": {
        "id": "i2yD6I_hoZuh"
      },
      "source": [
        "# Question 5"
      ]
    },
    {
      "cell_type": "code",
      "metadata": {
        "id": "aujAJ578onz0"
      },
      "source": [
        "temp = {}\n",
        "for i, col in enumerate(df_train.columns.to_list()):\n",
        "  df_train_temp = df_train[df_train.columns.delete(i)]\n",
        "  df_validate_temp = df_validate[df_validate.columns.delete(i)]\n",
        "  X_train_temp = dv.fit_transform(df_train_temp.to_dict(orient='records'))\n",
        "  X_validate_temp = dv.transform(df_validate_temp.to_dict(orient='records'))\n",
        "  model = LogisticRegression(solver='lbfgs', C=1.0, random_state=42).fit(X_train_temp, y_train_bool)\n",
        "  prediction = model.predict_proba(X_validate_temp)\n",
        "  decision = (prediction[:,1] >= 0.5).astype(int)\n",
        "  temp[col] = global_accurecy - (decision == y_validate_bool).mean()"
      ],
      "execution_count": 107,
      "outputs": []
    },
    {
      "cell_type": "code",
      "metadata": {
        "id": "Z80hb-qKsjxs"
      },
      "source": [
        "ans = {}\n",
        "ans['neighbourhood_group'] = temp['neighbourhood_group']\n",
        "ans['room_type'] = temp['room_type']\n",
        "ans['number_of_reviews'] = temp['number_of_reviews']\n",
        "ans['reviews_per_month'] = temp['reviews_per_month']"
      ],
      "execution_count": 108,
      "outputs": []
    },
    {
      "cell_type": "code",
      "metadata": {
        "colab": {
          "base_uri": "https://localhost:8080/"
        },
        "id": "2PDcis2LFvtH",
        "outputId": "cba29d8c-16b9-4b99-ed4d-3e1fed991d06"
      },
      "source": [
        "temp"
      ],
      "execution_count": 136,
      "outputs": [
        {
          "output_type": "execute_result",
          "data": {
            "text/plain": [
              "{'availability_365': 0.008427242049289352,\n",
              " 'calculated_host_listings_count': 0.0033142448103078426,\n",
              " 'latitude': 0.003621024644646753,\n",
              " 'longitude': 0.0032119848655282057,\n",
              " 'minimum_nights': 0.004439104202883737,\n",
              " 'neighbourhood_group': 0.03900296553839866,\n",
              " 'number_of_reviews': 0.003007464975968932,\n",
              " 'reviews_per_month': 0.004950403926781921,\n",
              " 'room_type': 0.07346456692913395}"
            ]
          },
          "metadata": {},
          "execution_count": 136
        }
      ]
    },
    {
      "cell_type": "code",
      "metadata": {
        "colab": {
          "base_uri": "https://localhost:8080/"
        },
        "id": "1p7d2z1otzSl",
        "outputId": "8697ef6a-e8c3-42e8-9ded-3d1674604013"
      },
      "source": [
        "sorted(ans.values())"
      ],
      "execution_count": 144,
      "outputs": [
        {
          "output_type": "execute_result",
          "data": {
            "text/plain": [
              "[0.003007464975968932,\n",
              " 0.004950403926781921,\n",
              " 0.03900296553839866,\n",
              " 0.07346456692913395]"
            ]
          },
          "metadata": {},
          "execution_count": 144
        }
      ]
    },
    {
      "cell_type": "markdown",
      "metadata": {
        "id": "9ao8Zqgc3xqL"
      },
      "source": [
        "# Question. 6"
      ]
    },
    {
      "cell_type": "code",
      "metadata": {
        "id": "U8CEAQR54soW"
      },
      "source": [
        "from sklearn.linear_model import Ridge"
      ],
      "execution_count": 110,
      "outputs": []
    },
    {
      "cell_type": "code",
      "metadata": {
        "colab": {
          "base_uri": "https://localhost:8080/"
        },
        "id": "QiTvLvVW2hy9",
        "outputId": "5a36a77d-df24-44ca-f2fe-8f4259852f43"
      },
      "source": [
        "y_train_log = np.log1p(y_train)\n",
        "y_validate_log = np.log1p(y_validate)\n",
        "y_test_log = np.log1p(y_test)\n",
        "y_train_log.isnull().value_counts()"
      ],
      "execution_count": 129,
      "outputs": [
        {
          "output_type": "execute_result",
          "data": {
            "text/plain": [
              "False    29337\n",
              "Name: price, dtype: int64"
            ]
          },
          "metadata": {},
          "execution_count": 129
        }
      ]
    },
    {
      "cell_type": "code",
      "metadata": {
        "id": "vfZmFH749gER"
      },
      "source": [
        "def rmse(y, y_pred):\n",
        "    error = y_pred - y\n",
        "    mse = (error ** 2).mean()\n",
        "    return np.sqrt(mse)"
      ],
      "execution_count": 125,
      "outputs": []
    },
    {
      "cell_type": "code",
      "metadata": {
        "id": "bKRCXBY44bnS"
      },
      "source": [
        "values = []\n",
        "for i in [0, 0.01, 0.1, 1, 10]:\n",
        "  rmodel = Ridge(alpha=i)\n",
        "  rmodel.fit(X_train, y_train_log)\n",
        "  values.append(round(rmse(rmodel.predict(X_validate), y_validate_log), 3))"
      ],
      "execution_count": 145,
      "outputs": []
    },
    {
      "cell_type": "code",
      "metadata": {
        "colab": {
          "base_uri": "https://localhost:8080/"
        },
        "id": "kcKt9N1o63Nh",
        "outputId": "7e152f1d-3dd2-4143-a174-c8a0c86b287f"
      },
      "source": [
        "values"
      ],
      "execution_count": 148,
      "outputs": [
        {
          "output_type": "execute_result",
          "data": {
            "text/plain": [
              "[0.497, 0.497, 0.497, 0.497, 0.498]"
            ]
          },
          "metadata": {},
          "execution_count": 148
        }
      ]
    },
    {
      "cell_type": "code",
      "metadata": {
        "colab": {
          "base_uri": "https://localhost:8080/"
        },
        "id": "0D1PDcAX963L",
        "outputId": "ed801170-6e2d-4cf7-ec44-b2534ee6a643"
      },
      "source": [
        "min(values)"
      ],
      "execution_count": 147,
      "outputs": [
        {
          "output_type": "execute_result",
          "data": {
            "text/plain": [
              "0.497"
            ]
          },
          "metadata": {},
          "execution_count": 147
        }
      ]
    }
  ]
}